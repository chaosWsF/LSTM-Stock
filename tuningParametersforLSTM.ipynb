{
 "cells": [
  {
   "cell_type": "code",
   "execution_count": 18,
   "metadata": {
    "collapsed": true
   },
   "outputs": [],
   "source": [
    "import numpy as np"
   ]
  },
  {
   "cell_type": "code",
   "execution_count": 19,
   "metadata": {
    "collapsed": true
   },
   "outputs": [],
   "source": [
    "rootpath = '../.'\n",
    "filename = rootpath + '/accuracy report CLASS_8.txt'"
   ]
  },
  {
   "cell_type": "code",
   "execution_count": 20,
   "metadata": {
    "collapsed": true
   },
   "outputs": [],
   "source": [
    "param_name = []\n",
    "equal0 = []\n",
    "equal1 = []\n",
    "equal2 = []\n",
    "equal3 = []\n",
    "\n",
    "with open(filename, 'r') as file:\n",
    "    i = 0\n",
    "    for line in file:\n",
    "        if i % 6 == 0:\n",
    "            i += 1\n",
    "            continue\n",
    "        elif i % 6 == 1:\n",
    "            param_name.append(line.split()[-1])\n",
    "        elif i % 6 == 2:\n",
    "            equal0.append(float(line.split()[-1].split('=')[-1]))\n",
    "        elif i % 6 == 3:\n",
    "            equal1.append(float(line.split()[-1].split('=')[-1]))\n",
    "        elif i % 6 == 4:\n",
    "            equal2.append(float(line.split()[-1].split('=')[-1]))\n",
    "        else:\n",
    "            equal3.append(float(line.split()[-1].split('=')[-1]))\n",
    "\n",
    "        i += 1"
   ]
  },
  {
   "cell_type": "code",
   "execution_count": 21,
   "metadata": {},
   "outputs": [
    {
     "name": "stdout",
     "output_type": "stream",
     "text": [
      "2700 2700 2700 2700 2700\n",
      "p12_100_1_0.001_100_0.5 0.9536882 0.10487106 0.75 0.33870247\n",
      "<class 'str'> <class 'float'> <class 'float'> <class 'float'> <class 'float'>\n"
     ]
    }
   ],
   "source": [
    "print(len(param_name), len(equal0), len(equal1), len(equal2), len(equal3))\n",
    "print(param_name[0], equal0[0], equal1[0], equal2[0], equal3[0])\n",
    "print(type(param_name[0]), type(equal0[0]), type(equal1[0]), type(equal2[0]), type(equal3[0]))"
   ]
  },
  {
   "cell_type": "code",
   "execution_count": 22,
   "metadata": {
    "collapsed": true
   },
   "outputs": [],
   "source": [
    "equal0 = np.array(equal0)\n",
    "equal1 = np.array(equal1)\n",
    "equal2 = np.array(equal2)\n",
    "equal3 = np.array(equal3)"
   ]
  },
  {
   "cell_type": "code",
   "execution_count": 23,
   "metadata": {},
   "outputs": [
    {
     "name": "stdout",
     "output_type": "stream",
     "text": [
      "14\n",
      "['p48_150_5_0.001_200_0.7', 'p48_150_5_0.001_200_0.9', 'p12_100_2_0.001_200_0.5', 'p24_150_5_0.001_200_0.5', 'p48_150_5_0.001_200_0.6', 'p12_100_2_0.001_200_0.6', 'p12_100_3_0.001_200_0.7', 'p12_100_2_0.001_200_0.7', 'p12_100_2_0.001_200_0.9', 'p12_100_2_0.001_200_0.8', 'p48_100_2_0.001_200_0.5', 'p48_100_2_0.001_200_0.6', 'p24_100_3_0.001_200_0.5', 'p12_100_3_0.01_200_0.9']\n"
     ]
    }
   ],
   "source": [
    "ad_param_list = []\n",
    "for w0 in range(100):\n",
    "    for w1 in range(100):\n",
    "        for w2 in range(100):\n",
    "            if w0 + w1 + w2 <= 100:\n",
    "                w3 = 100 - w0 - w1 - w2\n",
    "                if w3 > w0 > w2 > w1:\n",
    "                    comb = w0 * equal0 + w1 * equal1 + w2 * equal2 + w3 * equal3\n",
    "                    ad_param = param_name[np.argmax(comb)]\n",
    "                    if ad_param not in ad_param_list:\n",
    "                        ad_param_list.append(ad_param)\n",
    "\n",
    "print(len(ad_param_list))\n",
    "print(ad_param_list)"
   ]
  },
  {
   "cell_type": "code",
   "execution_count": 24,
   "metadata": {},
   "outputs": [
    {
     "name": "stdout",
     "output_type": "stream",
     "text": [
      "p48_150_5_0.001_200_0.7\n",
      "acc0=0.9156348\n",
      "acc1=0.0011655012\n",
      "acc2=0.024699599\n",
      "acc3=0.99910516\n",
      "\n",
      "\n",
      "p48_150_5_0.001_200_0.9\n",
      "acc0=0.91374606\n",
      "acc1=0.0046620048\n",
      "acc2=0.06508678\n",
      "acc3=0.9955257\n",
      "\n",
      "\n",
      "p12_100_2_0.001_200_0.5\n",
      "acc0=0.9549455\n",
      "acc1=0.07106017\n",
      "acc2=0.41121495\n",
      "acc3=0.9543624\n",
      "\n",
      "\n",
      "p24_150_5_0.001_200_0.5\n",
      "acc0=0.9656112\n",
      "acc1=0.043778803\n",
      "acc2=0.17656876\n",
      "acc3=0.9767338\n",
      "\n",
      "\n",
      "p48_150_5_0.001_200_0.6\n",
      "acc0=0.9508919\n",
      "acc1=0.0029137528\n",
      "acc2=0.04706275\n",
      "acc3=0.9928412\n",
      "\n",
      "\n",
      "p12_100_2_0.001_200_0.6\n",
      "acc0=0.95431685\n",
      "acc1=0.07908309\n",
      "acc2=0.44659546\n",
      "acc3=0.94183445\n",
      "\n",
      "\n",
      "p12_100_3_0.001_200_0.7\n",
      "acc0=0.8839061\n",
      "acc1=0.27621776\n",
      "acc2=0.6365154\n",
      "acc3=0.7498881\n",
      "\n",
      "\n",
      "p12_100_2_0.001_200_0.7\n",
      "acc0=0.95641243\n",
      "acc1=0.065329514\n",
      "acc2=0.4642857\n",
      "acc3=0.9337808\n",
      "\n",
      "\n",
      "p12_100_2_0.001_200_0.9\n",
      "acc0=0.9522213\n",
      "acc1=0.065902576\n",
      "acc2=0.5140187\n",
      "acc3=0.90604025\n",
      "\n",
      "\n",
      "p12_100_2_0.001_200_0.8\n",
      "acc0=0.95473593\n",
      "acc1=0.065902576\n",
      "acc2=0.49132177\n",
      "acc3=0.91856825\n",
      "\n",
      "\n",
      "p48_100_2_0.001_200_0.5\n",
      "acc0=0.94207764\n",
      "acc1=0.06410257\n",
      "acc2=0.57743657\n",
      "acc3=0.86129755\n",
      "\n",
      "\n",
      "p48_100_2_0.001_200_0.6\n",
      "acc0=0.9254984\n",
      "acc1=0.07400932\n",
      "acc2=0.66121495\n",
      "acc3=0.7977629\n",
      "\n",
      "\n",
      "p24_100_3_0.001_200_0.5\n",
      "acc0=0.9020759\n",
      "acc1=0.22580644\n",
      "acc2=0.60747665\n",
      "acc3=0.7856823\n",
      "\n",
      "\n",
      "p12_100_3_0.01_200_0.9\n",
      "acc0=0.9771584\n",
      "acc1=0.0\n",
      "acc2=0.032042723\n",
      "acc3=0.9785235\n",
      "\n",
      "\n"
     ]
    }
   ],
   "source": [
    "for pname in ad_param_list:\n",
    "    i = param_name.index(pname)\n",
    "    print(pname)\n",
    "    print('acc0=' + str(equal0[i]))\n",
    "    print('acc1=' + str(equal1[i]))\n",
    "    print('acc2=' + str(equal2[i]))\n",
    "    print('acc3=' + str(equal3[i]))\n",
    "    print('\\n')"
   ]
  }
 ],
 "metadata": {
  "kernelspec": {
   "display_name": "Python [default]",
   "language": "python",
   "name": "python3"
  },
  "language_info": {
   "codemirror_mode": {
    "name": "ipython",
    "version": 3
   },
   "file_extension": ".py",
   "mimetype": "text/x-python",
   "name": "python",
   "nbconvert_exporter": "python",
   "pygments_lexer": "ipython3",
   "version": "3.5.4"
  }
 },
 "nbformat": 4,
 "nbformat_minor": 2
}
